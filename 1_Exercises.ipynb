{
 "cells": [
  {
   "cell_type": "markdown",
   "id": "38e188a5",
   "metadata": {},
   "source": [
    "# Exercise 00\n",
    "Write a piece of code that allocates a list of 20 integers and initializes each element by its index multiplied by 5. Print the result."
   ]
  },
  {
   "cell_type": "code",
   "execution_count": 10,
   "id": "01aa4f35",
   "metadata": {},
   "outputs": [
    {
     "name": "stdout",
     "output_type": "stream",
     "text": [
      "[5, 10, 15, 20, 25, 30, 35, 40, 45, 50, 55, 60, 65, 70, 75, 80, 85, 90, 95, 100]\n"
     ]
    }
   ],
   "source": [
    "list = []\n",
    "\n",
    "for i in range(1,21):\n",
    "    list.append(i * 5)\n",
    "\n",
    "print(list)"
   ]
  },
  {
   "cell_type": "markdown",
   "id": "529d91ae",
   "metadata": {},
   "source": [
    "# Exercise 01\n",
    "Define a function that takes an integer as input, prints  all integers that it is divisable by, and returns the largest one."
   ]
  },
  {
   "cell_type": "code",
   "execution_count": 22,
   "id": "30e79132",
   "metadata": {},
   "outputs": [
    {
     "name": "stdout",
     "output_type": "stream",
     "text": [
      "Enter an integer: 10\n",
      "1\n",
      "2\n",
      "5\n",
      "10\n",
      "The largest integer that 10 is divisible by is 10.\n"
     ]
    }
   ],
   "source": [
    "n = int(input(\"Enter an integer: \"))\n",
    "\n",
    "def find_and_print_divisibles(n):\n",
    "    largest_divisible = 1\n",
    "    \n",
    "    for i in range(1, n + 1):\n",
    "        if n % i == 0:\n",
    "            print(i)\n",
    "            largest_divisible = i\n",
    "    \n",
    "    return largest_divisible\n",
    "\n",
    "result = find_and_print_divisibles(input_number)\n",
    "print(f\"The largest integer that {input_number} is divisible by is {result}.\")"
   ]
  },
  {
   "cell_type": "markdown",
   "id": "cfbe30d4",
   "metadata": {},
   "source": [
    "# Exercise 02\n",
    "- create a dictionary with 6 keys and values of your choice\n",
    "- write a function that takes a dictionary and a value as input and returns whether the value occurs as a key in the dictionary\n",
    "- write a function that takes a dictionary as input, and returns the dictionary but the keys are swapped with their values (resolve the issue if a value occurs twice!)"
   ]
  },
  {
   "cell_type": "code",
   "execution_count": 28,
   "id": "2123f1c6",
   "metadata": {},
   "outputs": [
    {
     "name": "stdout",
     "output_type": "stream",
     "text": [
      "Enter an value: a\n",
      "The value 'date' exists as a key in the dictionary: True\n"
     ]
    }
   ],
   "source": [
    "ThisDict = {'a':1, 'b':2, 'c':3, 'd':4, 'e':5, 'f':6}\n",
    "n = input(\"Enter an value: \")\n",
    "\n",
    "def value_exists_as_key(ThisDict, value):\n",
    "    return value in ThisDict.keys()\n",
    "\n",
    "exists = value_exists_as_key(ThisDict, n)\n",
    "print(f\"The value '{search_value}' exists as a key in the dictionary: {exists}\")"
   ]
  },
  {
   "cell_type": "code",
   "execution_count": 32,
   "id": "1f7c72fb",
   "metadata": {},
   "outputs": [
    {
     "name": "stdout",
     "output_type": "stream",
     "text": [
      "{1: 'a', 2: 'b', 3: 'c', 4: 'd', 5: 'e', 6: 'f'}\n"
     ]
    }
   ],
   "source": [
    "def swap_keys_and_values(mydict):\n",
    "    swapped_dict = {}\n",
    "    \n",
    "    for key, value in mydict.items():\n",
    "        if value in swapped_dict:\n",
    "            if isinstance(swapped_dict[value], list):\n",
    "                swapped_dict[value].append(key)\n",
    "            else:\n",
    "                swapped_dict[value] = [swapped_dict[value], key]\n",
    "        else:\n",
    "            swapped_dict[value] = key\n",
    "    \n",
    "    return swapped_dict\n",
    "\n",
    "swapped = swap_keys_and_values(ThisDict)\n",
    "print(swapped)"
   ]
  },
  {
   "cell_type": "markdown",
   "id": "b4b4e426",
   "metadata": {},
   "source": [
    "# Exercise 03\n",
    "Define a function that creates a dictionary of the first n fibonacci numbers as values paired with their indices as keys. "
   ]
  },
  {
   "cell_type": "code",
   "execution_count": 13,
   "id": "7845b5a4",
   "metadata": {},
   "outputs": [
    {
     "name": "stdout",
     "output_type": "stream",
     "text": [
      "enter a number: 10\n",
      "{0: 0, 1: 1, 2: 1, 3: 2, 4: 3, 5: 5, 6: 8, 7: 13, 8: 21, 9: 34, 10: 55}\n"
     ]
    }
   ],
   "source": [
    "n = int(input(\"enter a number: \"))\n",
    "\n",
    "def fibonacci(n):\n",
    "    TheDict = {}\n",
    "    \n",
    "    if n >= 1:\n",
    "        TheDict[0] = 0\n",
    "    if n >= 2:\n",
    "        TheDict[1] = 1\n",
    "        for i in range(2,n+1):\n",
    "            TheDict[i] = TheDict[i-1] + TheDict[i-2]\n",
    "        return TheDict\n",
    "\n",
    "fibonacci_number = fibonacci(n)\n",
    "print (fibonacci_number)"
   ]
  }
 ],
 "metadata": {
  "kernelspec": {
   "display_name": "Python 3 (ipykernel)",
   "language": "python",
   "name": "python3"
  },
  "language_info": {
   "codemirror_mode": {
    "name": "ipython",
    "version": 3
   },
   "file_extension": ".py",
   "mimetype": "text/x-python",
   "name": "python",
   "nbconvert_exporter": "python",
   "pygments_lexer": "ipython3",
   "version": "3.8.18"
  }
 },
 "nbformat": 4,
 "nbformat_minor": 5
}
